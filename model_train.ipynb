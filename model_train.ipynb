{
 "cells": [
  {
   "cell_type": "code",
   "execution_count": 9,
   "id": "f07fd4ea",
   "metadata": {},
   "outputs": [
    {
     "name": "stdout",
     "output_type": "stream",
     "text": [
      "   5113453730  117614.31000000  0.02367000  2783.93071770  1753488000071403  \\\n",
      "0  5113453731        117614.32     0.00144     169.364621  1753488000298854   \n",
      "1  5113453732        117614.32     0.05349    6291.189977  1753488000481234   \n",
      "2  5113453733        117614.32     0.25920   30485.631744  1753488000481234   \n",
      "3  5113453734        117614.32     0.06275    7380.298580  1753488000481234   \n",
      "4  5113453735        117614.32     0.00008       9.409146  1753488000681676   \n",
      "\n",
      "    True  True.1  \n",
      "0  False    True  \n",
      "1  False    True  \n",
      "2  False    True  \n",
      "3  False    True  \n",
      "4  False    True  \n",
      "Index(['5113453730', '117614.31000000', '0.02367000', '2783.93071770',\n",
      "       '1753488000071403', 'True', 'True.1'],\n",
      "      dtype='object')\n"
     ]
    }
   ],
   "source": [
    "import pandas as pd\n",
    "\n",
    "# Load the data\n",
    "df = pd.read_csv(r'C:\\downloads\\ULTRA_LOW_LATENCY_TRADER\\BTCUSDT-trades-2025-07-26.csv')\n",
    "\n",
    "# Print the first few rows\n",
    "print(df.head())\n",
    "\n",
    "# Print the column names\n",
    "print(df.columns)\n"
   ]
  },
  {
   "cell_type": "code",
   "execution_count": 10,
   "id": "e1dda415",
   "metadata": {},
   "outputs": [],
   "source": [
    "columns = [\n",
    "    \"trade_id\",     # Unique trade ID\n",
    "    \"price\",        # Trade price\n",
    "    \"qty\",          # Quantity traded\n",
    "    \"quote_qty\",    # Quote quantity\n",
    "    \"timestamp\",    # Timestamp (in milliseconds)\n",
    "    \"is_buyer_maker\",  # Whether buyer is the market maker\n",
    "    \"is_best_match\"    # Whether it's the best match\n",
    "]\n"
   ]
  },
  {
   "cell_type": "code",
   "execution_count": 11,
   "id": "c077ca61",
   "metadata": {},
   "outputs": [],
   "source": [
    "df = pd.read_csv(r\"C:\\downloads\\ULTRA_LOW_LATENCY_TRADER\\BTCUSDT-trades-2025-07-26.csv\", header=None, names=columns)\n"
   ]
  },
  {
   "cell_type": "code",
   "execution_count": 12,
   "id": "a3bbc335",
   "metadata": {},
   "outputs": [
    {
     "data": {
      "text/html": [
       "<div>\n",
       "<style scoped>\n",
       "    .dataframe tbody tr th:only-of-type {\n",
       "        vertical-align: middle;\n",
       "    }\n",
       "\n",
       "    .dataframe tbody tr th {\n",
       "        vertical-align: top;\n",
       "    }\n",
       "\n",
       "    .dataframe thead th {\n",
       "        text-align: right;\n",
       "    }\n",
       "</style>\n",
       "<table border=\"1\" class=\"dataframe\">\n",
       "  <thead>\n",
       "    <tr style=\"text-align: right;\">\n",
       "      <th></th>\n",
       "      <th>trade_id</th>\n",
       "      <th>price</th>\n",
       "      <th>qty</th>\n",
       "      <th>quote_qty</th>\n",
       "      <th>timestamp</th>\n",
       "      <th>is_buyer_maker</th>\n",
       "      <th>is_best_match</th>\n",
       "    </tr>\n",
       "  </thead>\n",
       "  <tbody>\n",
       "    <tr>\n",
       "      <th>0</th>\n",
       "      <td>5113453730</td>\n",
       "      <td>117614.31</td>\n",
       "      <td>0.02367</td>\n",
       "      <td>2783.930718</td>\n",
       "      <td>1753488000071403</td>\n",
       "      <td>True</td>\n",
       "      <td>True</td>\n",
       "    </tr>\n",
       "    <tr>\n",
       "      <th>1</th>\n",
       "      <td>5113453731</td>\n",
       "      <td>117614.32</td>\n",
       "      <td>0.00144</td>\n",
       "      <td>169.364621</td>\n",
       "      <td>1753488000298854</td>\n",
       "      <td>False</td>\n",
       "      <td>True</td>\n",
       "    </tr>\n",
       "    <tr>\n",
       "      <th>2</th>\n",
       "      <td>5113453732</td>\n",
       "      <td>117614.32</td>\n",
       "      <td>0.05349</td>\n",
       "      <td>6291.189977</td>\n",
       "      <td>1753488000481234</td>\n",
       "      <td>False</td>\n",
       "      <td>True</td>\n",
       "    </tr>\n",
       "    <tr>\n",
       "      <th>3</th>\n",
       "      <td>5113453733</td>\n",
       "      <td>117614.32</td>\n",
       "      <td>0.25920</td>\n",
       "      <td>30485.631744</td>\n",
       "      <td>1753488000481234</td>\n",
       "      <td>False</td>\n",
       "      <td>True</td>\n",
       "    </tr>\n",
       "    <tr>\n",
       "      <th>4</th>\n",
       "      <td>5113453734</td>\n",
       "      <td>117614.32</td>\n",
       "      <td>0.06275</td>\n",
       "      <td>7380.298580</td>\n",
       "      <td>1753488000481234</td>\n",
       "      <td>False</td>\n",
       "      <td>True</td>\n",
       "    </tr>\n",
       "  </tbody>\n",
       "</table>\n",
       "</div>"
      ],
      "text/plain": [
       "     trade_id      price      qty     quote_qty         timestamp  \\\n",
       "0  5113453730  117614.31  0.02367   2783.930718  1753488000071403   \n",
       "1  5113453731  117614.32  0.00144    169.364621  1753488000298854   \n",
       "2  5113453732  117614.32  0.05349   6291.189977  1753488000481234   \n",
       "3  5113453733  117614.32  0.25920  30485.631744  1753488000481234   \n",
       "4  5113453734  117614.32  0.06275   7380.298580  1753488000481234   \n",
       "\n",
       "   is_buyer_maker  is_best_match  \n",
       "0            True           True  \n",
       "1           False           True  \n",
       "2           False           True  \n",
       "3           False           True  \n",
       "4           False           True  "
      ]
     },
     "execution_count": 12,
     "metadata": {},
     "output_type": "execute_result"
    }
   ],
   "source": [
    "df.head(5)"
   ]
  },
  {
   "cell_type": "code",
   "execution_count": null,
   "id": "878b2891",
   "metadata": {},
   "outputs": [],
   "source": [
    "\n",
    "\n"
   ]
  },
  {
   "cell_type": "code",
   "execution_count": 41,
   "id": "ae418f30",
   "metadata": {},
   "outputs": [],
   "source": [
    "import pandas as pd"
   ]
  },
  {
   "cell_type": "code",
   "execution_count": null,
   "id": "425c9a5c",
   "metadata": {},
   "outputs": [],
   "source": [
    "df = pd.read_csv(r\"C:\\downloads\\ULTRA_LOW_LATENCY_TRADE_SIGNAL ENGINE\\processed_features.csv\")\n"
   ]
  },
  {
   "cell_type": "code",
   "execution_count": 43,
   "id": "e42f7d08",
   "metadata": {},
   "outputs": [],
   "source": [
    "next_price = df['price_now'].shift(-1)\n",
    "\n",
    "df['target'] = 0  # Default: Hold\n",
    "df.loc[next_price > df['price_now'], 'target'] = 1  # Buy\n",
    "df.loc[next_price < df['price_now'], 'target'] = 2  # Sell"
   ]
  },
  {
   "cell_type": "code",
   "execution_count": 50,
   "id": "ca016b92",
   "metadata": {},
   "outputs": [
    {
     "data": {
      "text/html": [
       "<div>\n",
       "<style scoped>\n",
       "    .dataframe tbody tr th:only-of-type {\n",
       "        vertical-align: middle;\n",
       "    }\n",
       "\n",
       "    .dataframe tbody tr th {\n",
       "        vertical-align: top;\n",
       "    }\n",
       "\n",
       "    .dataframe thead th {\n",
       "        text-align: right;\n",
       "    }\n",
       "</style>\n",
       "<table border=\"1\" class=\"dataframe\">\n",
       "  <thead>\n",
       "    <tr style=\"text-align: right;\">\n",
       "      <th></th>\n",
       "      <th>price_now</th>\n",
       "      <th>return_5</th>\n",
       "      <th>rolling_mean_5</th>\n",
       "      <th>rolling_std_5</th>\n",
       "      <th>vwap_diff</th>\n",
       "      <th>volume_sum_5</th>\n",
       "      <th>rsi_5</th>\n",
       "      <th>tick_inter_arrival_time</th>\n",
       "      <th>target</th>\n",
       "    </tr>\n",
       "  </thead>\n",
       "  <tbody>\n",
       "    <tr>\n",
       "      <th>0</th>\n",
       "      <td>117614.32</td>\n",
       "      <td>8.502367e-08</td>\n",
       "      <td>117614.318</td>\n",
       "      <td>4.000000e-03</td>\n",
       "      <td>-0.000885</td>\n",
       "      <td>0.40055</td>\n",
       "      <td>99.99999</td>\n",
       "      <td>0.00025</td>\n",
       "      <td>0</td>\n",
       "    </tr>\n",
       "    <tr>\n",
       "      <th>1</th>\n",
       "      <td>117614.32</td>\n",
       "      <td>0.000000e+00</td>\n",
       "      <td>117614.320</td>\n",
       "      <td>1.455192e-11</td>\n",
       "      <td>-0.000312</td>\n",
       "      <td>0.37696</td>\n",
       "      <td>50.00000</td>\n",
       "      <td>0.00075</td>\n",
       "      <td>2</td>\n",
       "    </tr>\n",
       "    <tr>\n",
       "      <th>2</th>\n",
       "      <td>117614.31</td>\n",
       "      <td>-8.502366e-08</td>\n",
       "      <td>117614.318</td>\n",
       "      <td>4.000000e-03</td>\n",
       "      <td>0.008339</td>\n",
       "      <td>0.43620</td>\n",
       "      <td>0.00001</td>\n",
       "      <td>0.00075</td>\n",
       "      <td>0</td>\n",
       "    </tr>\n",
       "    <tr>\n",
       "      <th>3</th>\n",
       "      <td>117614.31</td>\n",
       "      <td>-8.502366e-08</td>\n",
       "      <td>117614.316</td>\n",
       "      <td>4.898979e-03</td>\n",
       "      <td>0.006358</td>\n",
       "      <td>0.48801</td>\n",
       "      <td>0.00001</td>\n",
       "      <td>0.00075</td>\n",
       "      <td>0</td>\n",
       "    </tr>\n",
       "    <tr>\n",
       "      <th>4</th>\n",
       "      <td>117614.31</td>\n",
       "      <td>-8.502366e-08</td>\n",
       "      <td>117614.314</td>\n",
       "      <td>4.898979e-03</td>\n",
       "      <td>0.002231</td>\n",
       "      <td>0.22886</td>\n",
       "      <td>0.00001</td>\n",
       "      <td>0.00075</td>\n",
       "      <td>0</td>\n",
       "    </tr>\n",
       "  </tbody>\n",
       "</table>\n",
       "</div>"
      ],
      "text/plain": [
       "   price_now      return_5  rolling_mean_5  rolling_std_5  vwap_diff  \\\n",
       "0  117614.32  8.502367e-08      117614.318   4.000000e-03  -0.000885   \n",
       "1  117614.32  0.000000e+00      117614.320   1.455192e-11  -0.000312   \n",
       "2  117614.31 -8.502366e-08      117614.318   4.000000e-03   0.008339   \n",
       "3  117614.31 -8.502366e-08      117614.316   4.898979e-03   0.006358   \n",
       "4  117614.31 -8.502366e-08      117614.314   4.898979e-03   0.002231   \n",
       "\n",
       "   volume_sum_5     rsi_5  tick_inter_arrival_time  target  \n",
       "0       0.40055  99.99999                  0.00025       0  \n",
       "1       0.37696  50.00000                  0.00075       2  \n",
       "2       0.43620   0.00001                  0.00075       0  \n",
       "3       0.48801   0.00001                  0.00075       0  \n",
       "4       0.22886   0.00001                  0.00075       0  "
      ]
     },
     "execution_count": 50,
     "metadata": {},
     "output_type": "execute_result"
    }
   ],
   "source": [
    "df.head()  # Display the first few rows of the DataFrame"
   ]
  },
  {
   "cell_type": "code",
   "execution_count": 45,
   "id": "77ecf7b2",
   "metadata": {},
   "outputs": [
    {
     "name": "stdout",
     "output_type": "stream",
     "text": [
      "<class 'pandas.core.frame.DataFrame'>\n",
      "RangeIndex: 790368 entries, 0 to 790367\n",
      "Data columns (total 10 columns):\n",
      " #   Column                   Non-Null Count   Dtype  \n",
      "---  ------                   --------------   -----  \n",
      " 0   timestamp                790368 non-null  float64\n",
      " 1   price_now                790368 non-null  float64\n",
      " 2   return_5                 790368 non-null  float64\n",
      " 3   rolling_mean_5           790368 non-null  float64\n",
      " 4   rolling_std_5            790368 non-null  float64\n",
      " 5   vwap_diff                790368 non-null  float64\n",
      " 6   volume_sum_5             790368 non-null  float64\n",
      " 7   rsi_5                    790368 non-null  float64\n",
      " 8   tick_inter_arrival_time  790368 non-null  float64\n",
      " 9   target                   790368 non-null  int64  \n",
      "dtypes: float64(9), int64(1)\n",
      "memory usage: 60.3 MB\n"
     ]
    }
   ],
   "source": [
    "df.info()"
   ]
  },
  {
   "cell_type": "code",
   "execution_count": 51,
   "id": "d314f6e4",
   "metadata": {},
   "outputs": [
    {
     "data": {
      "text/plain": [
       "Text(0.5, 1.0, 'Correlation Matrix')"
      ]
     },
     "execution_count": 51,
     "metadata": {},
     "output_type": "execute_result"
    },
    {
     "data": {
      "image/png": "[encoded data removed]",
      "text/plain": [
       "<Figure size 1200x800 with 2 Axes>"
      ]
     },
     "metadata": {},
     "output_type": "display_data"
    }
   ],
   "source": [
    "# correlation matrix\n",
    "import seaborn as sns\n",
    "import matplotlib.pyplot as plt\n",
    "plt.figure(figsize=(12, 8))\n",
    "sns.heatmap(df.corr(), annot=True, fmt=\".2f\", cmap='coolwarm', square=True)\n",
    "plt.title('Correlation Matrix')\n"
   ]
  },
  {
   "cell_type": "code",
   "execution_count": 52,
   "id": "18ea26e1",
   "metadata": {},
   "outputs": [
    {
     "data": {
      "image/png": "[encoded data removed]",
      "text/plain": [
       "<Figure size 800x600 with 1 Axes>"
      ]
     },
     "metadata": {},
     "output_type": "display_data"
    }
   ],
   "source": [
    "# pie chart for different classes\n",
    "import matplotlib.pyplot as plt\n",
    "import numpy as np  \n",
    "labels = df['target'].value_counts().index\n",
    "sizes = df['target'].value_counts().values\n",
    "plt.figure(figsize=(8, 6))\n",
    "plt.pie(sizes, labels=labels, autopct='%1.1f%%', startangle=140)\n",
    "plt.title('Distribution of Target Classes') \n",
    "plt.show()"
   ]
  },
  {
   "cell_type": "code",
   "execution_count": 53,
   "id": "2f50406c",
   "metadata": {},
   "outputs": [
    {
     "ename": "KeyError",
     "evalue": "\"['timestamp'] not found in axis\"",
     "output_type": "error",
     "traceback": [
      "\u001b[1;31m---------------------------------------------------------------------------\u001b[0m",
      "\u001b[1;31mKeyError\u001b[0m                                  Traceback (most recent call last)",
      "Cell \u001b[1;32mIn[53], line 2\u001b[0m\n\u001b[0;32m      1\u001b[0m \u001b[38;5;66;03m# drop timestamp \u001b[39;00m\n\u001b[1;32m----> 2\u001b[0m \u001b[43mdf\u001b[49m\u001b[38;5;241;43m.\u001b[39;49m\u001b[43mdrop\u001b[49m\u001b[43m(\u001b[49m\u001b[43mcolumns\u001b[49m\u001b[38;5;241;43m=\u001b[39;49m\u001b[43m[\u001b[49m\u001b[38;5;124;43m'\u001b[39;49m\u001b[38;5;124;43mtimestamp\u001b[39;49m\u001b[38;5;124;43m'\u001b[39;49m\u001b[43m]\u001b[49m\u001b[43m,\u001b[49m\u001b[43m \u001b[49m\u001b[43minplace\u001b[49m\u001b[38;5;241;43m=\u001b[39;49m\u001b[38;5;28;43;01mTrue\u001b[39;49;00m\u001b[43m)\u001b[49m\n\u001b[0;32m      3\u001b[0m df\u001b[38;5;241m.\u001b[39mshape\n",
      "File \u001b[1;32mc:\\downloads\\ULTRA_LOW_LATENCY_TRADER\\venv\\lib\\site-packages\\pandas\\core\\frame.py:5588\u001b[0m, in \u001b[0;36mDataFrame.drop\u001b[1;34m(self, labels, axis, index, columns, level, inplace, errors)\u001b[0m\n\u001b[0;32m   5440\u001b[0m \u001b[38;5;28;01mdef\u001b[39;00m\u001b[38;5;250m \u001b[39m\u001b[38;5;21mdrop\u001b[39m(\n\u001b[0;32m   5441\u001b[0m     \u001b[38;5;28mself\u001b[39m,\n\u001b[0;32m   5442\u001b[0m     labels: IndexLabel \u001b[38;5;241m|\u001b[39m \u001b[38;5;28;01mNone\u001b[39;00m \u001b[38;5;241m=\u001b[39m \u001b[38;5;28;01mNone\u001b[39;00m,\n\u001b[1;32m   (...)\u001b[0m\n\u001b[0;32m   5449\u001b[0m     errors: IgnoreRaise \u001b[38;5;241m=\u001b[39m \u001b[38;5;124m\"\u001b[39m\u001b[38;5;124mraise\u001b[39m\u001b[38;5;124m\"\u001b[39m,\n\u001b[0;32m   5450\u001b[0m ) \u001b[38;5;241m-\u001b[39m\u001b[38;5;241m>\u001b[39m DataFrame \u001b[38;5;241m|\u001b[39m \u001b[38;5;28;01mNone\u001b[39;00m:\n\u001b[0;32m   5451\u001b[0m \u001b[38;5;250m    \u001b[39m\u001b[38;5;124;03m\"\"\"\u001b[39;00m\n\u001b[0;32m   5452\u001b[0m \u001b[38;5;124;03m    Drop specified labels from rows or columns.\u001b[39;00m\n\u001b[0;32m   5453\u001b[0m \n\u001b[1;32m   (...)\u001b[0m\n\u001b[0;32m   5586\u001b[0m \u001b[38;5;124;03m            weight  1.0     0.8\u001b[39;00m\n\u001b[0;32m   5587\u001b[0m \u001b[38;5;124;03m    \"\"\"\u001b[39;00m\n\u001b[1;32m-> 5588\u001b[0m     \u001b[38;5;28;01mreturn\u001b[39;00m \u001b[38;5;28;43msuper\u001b[39;49m\u001b[43m(\u001b[49m\u001b[43m)\u001b[49m\u001b[38;5;241;43m.\u001b[39;49m\u001b[43mdrop\u001b[49m\u001b[43m(\u001b[49m\n\u001b[0;32m   5589\u001b[0m \u001b[43m        \u001b[49m\u001b[43mlabels\u001b[49m\u001b[38;5;241;43m=\u001b[39;49m\u001b[43mlabels\u001b[49m\u001b[43m,\u001b[49m\n\u001b[0;32m   5590\u001b[0m \u001b[43m        \u001b[49m\u001b[43maxis\u001b[49m\u001b[38;5;241;43m=\u001b[39;49m\u001b[43maxis\u001b[49m\u001b[43m,\u001b[49m\n\u001b[0;32m   5591\u001b[0m \u001b[43m        \u001b[49m\u001b[43mindex\u001b[49m\u001b[38;5;241;43m=\u001b[39;49m\u001b[43mindex\u001b[49m\u001b[43m,\u001b[49m\n\u001b[0;32m   5592\u001b[0m \u001b[43m        \u001b[49m\u001b[43mcolumns\u001b[49m\u001b[38;5;241;43m=\u001b[39;49m\u001b[43mcolumns\u001b[49m\u001b[43m,\u001b[49m\n\u001b[0;32m   5593\u001b[0m \u001b[43m        \u001b[49m\u001b[43mlevel\u001b[49m\u001b[38;5;241;43m=\u001b[39;49m\u001b[43mlevel\u001b[49m\u001b[43m,\u001b[49m\n\u001b[0;32m   5594\u001b[0m \u001b[43m        \u001b[49m\u001b[43minplace\u001b[49m\u001b[38;5;241;43m=\u001b[39;49m\u001b[43minplace\u001b[49m\u001b[43m,\u001b[49m\n\u001b[0;32m   5595\u001b[0m \u001b[43m        \u001b[49m\u001b[43merrors\u001b[49m\u001b[38;5;241;43m=\u001b[39;49m\u001b[43merrors\u001b[49m\u001b[43m,\u001b[49m\n\u001b[0;32m   5596\u001b[0m \u001b[43m    \u001b[49m\u001b[43m)\u001b[49m\n",
      "File \u001b[1;32mc:\\downloads\\ULTRA_LOW_LATENCY_TRADER\\venv\\lib\\site-packages\\pandas\\core\\generic.py:4807\u001b[0m, in \u001b[0;36mNDFrame.drop\u001b[1;34m(self, labels, axis, index, columns, level, inplace, errors)\u001b[0m\n\u001b[0;32m   4805\u001b[0m \u001b[38;5;28;01mfor\u001b[39;00m axis, labels \u001b[38;5;129;01min\u001b[39;00m axes\u001b[38;5;241m.\u001b[39mitems():\n\u001b[0;32m   4806\u001b[0m     \u001b[38;5;28;01mif\u001b[39;00m labels \u001b[38;5;129;01mis\u001b[39;00m \u001b[38;5;129;01mnot\u001b[39;00m \u001b[38;5;28;01mNone\u001b[39;00m:\n\u001b[1;32m-> 4807\u001b[0m         obj \u001b[38;5;241m=\u001b[39m \u001b[43mobj\u001b[49m\u001b[38;5;241;43m.\u001b[39;49m\u001b[43m_drop_axis\u001b[49m\u001b[43m(\u001b[49m\u001b[43mlabels\u001b[49m\u001b[43m,\u001b[49m\u001b[43m \u001b[49m\u001b[43maxis\u001b[49m\u001b[43m,\u001b[49m\u001b[43m \u001b[49m\u001b[43mlevel\u001b[49m\u001b[38;5;241;43m=\u001b[39;49m\u001b[43mlevel\u001b[49m\u001b[43m,\u001b[49m\u001b[43m \u001b[49m\u001b[43merrors\u001b[49m\u001b[38;5;241;43m=\u001b[39;49m\u001b[43merrors\u001b[49m\u001b[43m)\u001b[49m\n\u001b[0;32m   4809\u001b[0m \u001b[38;5;28;01mif\u001b[39;00m inplace:\n\u001b[0;32m   4810\u001b[0m     \u001b[38;5;28mself\u001b[39m\u001b[38;5;241m.\u001b[39m_update_inplace(obj)\n",
      "File \u001b[1;32mc:\\downloads\\ULTRA_LOW_LATENCY_TRADER\\venv\\lib\\site-packages\\pandas\\core\\generic.py:4849\u001b[0m, in \u001b[0;36mNDFrame._drop_axis\u001b[1;34m(self, labels, axis, level, errors, only_slice)\u001b[0m\n\u001b[0;32m   4847\u001b[0m         new_axis \u001b[38;5;241m=\u001b[39m axis\u001b[38;5;241m.\u001b[39mdrop(labels, level\u001b[38;5;241m=\u001b[39mlevel, errors\u001b[38;5;241m=\u001b[39merrors)\n\u001b[0;32m   4848\u001b[0m     \u001b[38;5;28;01melse\u001b[39;00m:\n\u001b[1;32m-> 4849\u001b[0m         new_axis \u001b[38;5;241m=\u001b[39m \u001b[43maxis\u001b[49m\u001b[38;5;241;43m.\u001b[39;49m\u001b[43mdrop\u001b[49m\u001b[43m(\u001b[49m\u001b[43mlabels\u001b[49m\u001b[43m,\u001b[49m\u001b[43m \u001b[49m\u001b[43merrors\u001b[49m\u001b[38;5;241;43m=\u001b[39;49m\u001b[43merrors\u001b[49m\u001b[43m)\u001b[49m\n\u001b[0;32m   4850\u001b[0m     indexer \u001b[38;5;241m=\u001b[39m axis\u001b[38;5;241m.\u001b[39mget_indexer(new_axis)\n\u001b[0;32m   4852\u001b[0m \u001b[38;5;66;03m# Case for non-unique axis\u001b[39;00m\n\u001b[0;32m   4853\u001b[0m \u001b[38;5;28;01melse\u001b[39;00m:\n",
      "File \u001b[1;32mc:\\downloads\\ULTRA_LOW_LATENCY_TRADER\\venv\\lib\\site-packages\\pandas\\core\\indexes\\base.py:7136\u001b[0m, in \u001b[0;36mIndex.drop\u001b[1;34m(self, labels, errors)\u001b[0m\n\u001b[0;32m   7134\u001b[0m \u001b[38;5;28;01mif\u001b[39;00m mask\u001b[38;5;241m.\u001b[39many():\n\u001b[0;32m   7135\u001b[0m     \u001b[38;5;28;01mif\u001b[39;00m errors \u001b[38;5;241m!=\u001b[39m \u001b[38;5;124m\"\u001b[39m\u001b[38;5;124mignore\u001b[39m\u001b[38;5;124m\"\u001b[39m:\n\u001b[1;32m-> 7136\u001b[0m         \u001b[38;5;28;01mraise\u001b[39;00m \u001b[38;5;167;01mKeyError\u001b[39;00m(\u001b[38;5;124mf\u001b[39m\u001b[38;5;124m\"\u001b[39m\u001b[38;5;132;01m{\u001b[39;00mlabels[mask]\u001b[38;5;241m.\u001b[39mtolist()\u001b[38;5;132;01m}\u001b[39;00m\u001b[38;5;124m not found in axis\u001b[39m\u001b[38;5;124m\"\u001b[39m)\n\u001b[0;32m   7137\u001b[0m     indexer \u001b[38;5;241m=\u001b[39m indexer[\u001b[38;5;241m~\u001b[39mmask]\n\u001b[0;32m   7138\u001b[0m \u001b[38;5;28;01mreturn\u001b[39;00m \u001b[38;5;28mself\u001b[39m\u001b[38;5;241m.\u001b[39mdelete(indexer)\n",
      "\u001b[1;31mKeyError\u001b[0m: \"['timestamp'] not found in axis\""
     ]
    }
   ],
   "source": [
    "# drop timestamp \n",
    "#df.drop(columns=['timestamp'], inplace=True)\n",
    "df.shape"
   ]
  },
  {
   "cell_type": "code",
   "execution_count": 58,
   "id": "21f2b94f",
   "metadata": {},
   "outputs": [],
   "source": [
    "# down sample the majority class using resample\n",
    "from sklearn.utils import resample\n",
    "from sklearn.model_selection import train_test_split\n",
    "\n",
    "majority_class = df[df['target'] == 0]\n",
    "minority_class = df[df['target'] == 1]\n",
    "minority_class2 = df[df['target'] == 2]\n",
    "\n",
    "\n",
    "majority_class_downsampled = resample(majority_class, replace=False, n_samples=280000, random_state=42)\n",
    "# upsample minority class\n",
    "minority_class_downsampled = resample(minority_class2, replace=True, n_samples=200000, random_state=42)\n",
    "minority_class_downsampled2 = resample(minority_class, replace=True, n_samples=200000, random_state=42)\n",
    "\n",
    "\n",
    "# Combine downsampled majority class with minority class\n",
    "df_downsampled = pd.concat([majority_class_downsampled, minority_class_downsampled2, minority_class_downsampled], ignore_index=True)\n",
    "\n",
    "# combine resampled minority class with majority class\n"
   ]
  },
  {
   "cell_type": "code",
   "execution_count": 59,
   "id": "1287a84a",
   "metadata": {},
   "outputs": [
    {
     "data": {
      "text/plain": [
       "target\n",
       "0    280000\n",
       "1    200000\n",
       "2    200000\n",
       "Name: count, dtype: int64"
      ]
     },
     "execution_count": 59,
     "metadata": {},
     "output_type": "execute_result"
    }
   ],
   "source": [
    "df_downsampled['target'].value_counts()"
   ]
  },
  {
   "cell_type": "code",
   "execution_count": null,
   "id": "9d36ea56",
   "metadata": {},
   "outputs": [],
   "source": []
  },
  {
   "cell_type": "code",
   "execution_count": 60,
   "id": "66b915fa",
   "metadata": {},
   "outputs": [],
   "source": [
    "# train-test split\n",
    "from sklearn.model_selection import train_test_split\n",
    "X = df_downsampled.drop(columns=['target'])\n",
    "y = df_downsampled['target']\n",
    "X_train, X_test, y_train, y_test = train_test_split(X, y, test_size=0.3, random_state=42)"
   ]
  },
  {
   "cell_type": "code",
   "execution_count": 61,
   "id": "49e9b8b2",
   "metadata": {},
   "outputs": [],
   "source": [
    "from sklearn.compose import ColumnTransformer\n",
    "from sklearn.preprocessing import StandardScaler, MinMaxScaler\n",
    "\n",
    "# Define feature groups\n",
    "standard_cols = [\n",
    "    \"price_now\", \"return_5\", \"rolling_mean_5\", \"rolling_std_5\", \n",
    "    \"vwap_diff\", \"volume_sum_5\"\n",
    "]\n",
    "\n",
    "minmax_cols = [\"rsi_5\", \"tick_inter_arrival_time\"]\n",
    "\n",
    "# Create the column transformer\n",
    "preprocessor = ColumnTransformer(transformers=[\n",
    "    ('std_scaler', StandardScaler(), standard_cols),\n",
    "    ('minmax_scaler', MinMaxScaler(), minmax_cols)\n",
    "])\n",
    "\n",
    "# Fit and transform on training set\n",
    "X_train_scaled = preprocessor.fit_transform(X_train)\n",
    "\n",
    "# Transform on test set\n",
    "X_test_scaled = preprocessor.transform(X_test)\n"
   ]
  },
  {
   "cell_type": "code",
   "execution_count": 66,
   "id": "74131bb2",
   "metadata": {},
   "outputs": [
    {
     "data": {
      "text/plain": [
       "['preprocessor.pkl']"
      ]
     },
     "execution_count": 66,
     "metadata": {},
     "output_type": "execute_result"
    }
   ],
   "source": [
    "import joblib\n",
    "\n",
    "# Save the preprocessor\n",
    "joblib.dump(preprocessor, \"preprocessor.pkl\")\n"
   ]
  },
  {
   "cell_type": "code",
   "execution_count": 57,
   "id": "df1e9b00",
   "metadata": {},
   "outputs": [
    {
     "name": "stderr",
     "output_type": "stream",
     "text": [
      "c:\\downloads\\ULTRA_LOW_LATENCY_TRADER\\venv\\lib\\site-packages\\xgboost\\training.py:183: UserWarning: [01:38:32] WARNING: C:\\actions-runner\\_work\\xgboost\\xgboost\\src\\common\\error_msg.cc:27: The tree method `gpu_hist` is deprecated since 2.0.0. To use GPU training, set the `device` parameter to CUDA instead.\n",
      "\n",
      "    E.g. tree_method = \"hist\", device = \"cuda\"\n",
      "\n",
      "  bst.update(dtrain, iteration=i, fobj=obj)\n",
      "c:\\downloads\\ULTRA_LOW_LATENCY_TRADER\\venv\\lib\\site-packages\\xgboost\\training.py:183: UserWarning: [01:38:32] WARNING: C:\\actions-runner\\_work\\xgboost\\xgboost\\src\\learner.cc:738: \n",
      "Parameters: { \"use_label_encoder\" } are not used.\n",
      "\n",
      "  bst.update(dtrain, iteration=i, fobj=obj)\n",
      "c:\\downloads\\ULTRA_LOW_LATENCY_TRADER\\venv\\lib\\site-packages\\xgboost\\core.py:2676: UserWarning: [01:39:00] WARNING: C:\\actions-runner\\_work\\xgboost\\xgboost\\src\\common\\error_msg.cc:27: The tree method `gpu_hist` is deprecated since 2.0.0. To use GPU training, set the `device` parameter to CUDA instead.\n",
      "\n",
      "    E.g. tree_method = \"hist\", device = \"cuda\"\n",
      "\n",
      "  if len(data.shape) != 1 and self.num_features() != data.shape[1]:\n"
     ]
    },
    {
     "name": "stdout",
     "output_type": "stream",
     "text": [
      "Classification Report:\n",
      "               precision    recall  f1-score   support\n",
      "\n",
      "           0       0.73      0.69      0.71     84118\n",
      "           1       0.77      0.81      0.79     59657\n",
      "           2       0.78      0.81      0.79     60225\n",
      "\n",
      "    accuracy                           0.76    204000\n",
      "   macro avg       0.76      0.77      0.76    204000\n",
      "weighted avg       0.76      0.76      0.76    204000\n",
      "\n",
      "confusion matrix:\n",
      " [[57815 13474 12829]\n",
      " [10763 48233   661]\n",
      " [10928   683 48614]]\n",
      "ROC AUC Score: 0.8994181909422815\n"
     ]
    }
   ],
   "source": [
    "# xgboost classifier\n",
    "from xgboost import XGBClassifier\n",
    "from sklearn.metrics import classification_report, accuracy_score , confusion_matrix , roc_auc_score\n",
    "\n",
    "xgb = XGBClassifier(\n",
    "    n_estimators=600, \n",
    "    learning_rate=0.3,\n",
    "    max_depth=9, \n",
    "    random_state=96,\n",
    "    use_label_encoder=False,\n",
    "    eval_metric='mlogloss',\n",
    "    subsample=0.8,\n",
    "    colsample_bytree=0.8,\n",
    "    objective='multi:softprob',\n",
    "    num_class=3,\n",
    "    tree_method='gpu_hist'  # Use GPU acceleration if available\n",
    ")\n",
    "\n",
    "xgb.fit(X_train_scaled, y_train)\n",
    "y_pred = xgb.predict(X_test_scaled)\n",
    "print(\"Classification Report:\\n\", classification_report(y_test, y_pred))\n",
    "print(\"confusion matrix:\\n\", confusion_matrix(y_test, y_pred))\n",
    "\n",
    "print(\"ROC AUC Score:\", roc_auc_score(y_test, xgb.predict_proba(X_test_scaled), multi_class='ovr'))\n"
   ]
  },
  {
   "cell_type": "code",
   "execution_count": null,
   "id": "b9af6cda",
   "metadata": {},
   "outputs": [],
   "source": [
    "\n",
    "\n"
   ]
  },
  {
   "cell_type": "code",
   "execution_count": null,
   "id": "9dcbb0c3",
   "metadata": {},
   "outputs": [
    {
     "data": {
      "text/plain": [
       "'from sklearn.model_selection import GridSearchCV , RandomizedSearchCV\\n\\nparam_grid = {\\n    \\'n_estimators\\': [100, 200],\\n    \\'max_depth\\': [4, 5, 6],\\n    \\'learning_rate\\': [0.05, 0.1, 0.2],\\n    \\'subsample\\': [0.7, 0.8, 1.0],\\n    \\'colsample_bytree\\': [0.7, 0.8, 1.0]\\n}\\n\\ngrid_search = GridSearchCV(\\n    estimator = XGBClassifier(\\n    n_estimators=100, \\n    learning_rate=0.1, \\n    max_depth=6, \\n    random_state=42,\\n    use_label_encoder=False,\\n    eval_metric=\\'mlogloss\\',\\n    subsample=0.8,\\n    colsample_bytree=0.8,\\n    objective=\\'multi:softprob\\',\\n    num_class=3,\\n    tree_method=\\'gpu_hist\\'  # Use GPU acceleration if available\\n),\\n    param_grid=param_grid,\\n    scoring=\\'roc_auc\\',\\n    cv=3,\\n    verbose=1,\\n    n_jobs=-1\\n)\\n\\ngrid_search.fit(X_train, y_train)\\n\\n# Best model\\nbest_model = grid_search.best_estimator_\\n\\n# Predict with best model\\ny_pred_best = best_model.predict(X_test)\\nprint(classification_report(y_test, y_pred_best))\\nprint(\"Confusion Matrix:\")\\nprint(confusion_matrix(y_test, y_pred_best ))'"
      ]
     },
     "execution_count": 82,
     "metadata": {},
     "output_type": "execute_result"
    }
   ],
   "source": [
    "'''from sklearn.model_selection import GridSearchCV , RandomizedSearchCV\n",
    "\n",
    "param_grid = {\n",
    "    'n_estimators': [100, 200],\n",
    "    'max_depth': [4, 5, 6],\n",
    "    'learning_rate': [0.05, 0.1, 0.2],\n",
    "    'subsample': [0.7, 0.8, 1.0],\n",
    "    'colsample_bytree': [0.7, 0.8, 1.0]\n",
    "}\n",
    "\n",
    "grid_search = GridSearchCV(\n",
    "    estimator = XGBClassifier(\n",
    "    n_estimators=100, \n",
    "    learning_rate=0.1, \n",
    "    max_depth=6, \n",
    "    random_state=42,\n",
    "    use_label_encoder=False,\n",
    "    eval_metric='mlogloss',\n",
    "    subsample=0.8,\n",
    "    colsample_bytree=0.8,\n",
    "    objective='multi:softprob',\n",
    "    num_class=3,\n",
    "    tree_method='gpu_hist'  # Use GPU acceleration if available\n",
    "),\n",
    "    param_grid=param_grid,\n",
    "    scoring='roc_auc',\n",
    "    cv=3,\n",
    "    verbose=1,\n",
    "    n_jobs=-1\n",
    ")\n",
    "\n",
    "grid_search.fit(X_train, y_train)\n",
    "\n",
    "# Best model\n",
    "best_model = grid_search.best_estimator_\n",
    "\n",
    "# Predict with best model\n",
    "y_pred_best = best_model.predict(X_test)\n",
    "print(classification_report(y_test, y_pred_best))\n",
    "\\\n",
    "print(\"Confusion Matrix:\")\n",
    "print(confusion_matrix(y_test, y_pred_best ))'''\n"
   ]
  },
  {
   "cell_type": "code",
   "execution_count": 63,
   "id": "4b8f1d08",
   "metadata": {},
   "outputs": [
    {
     "data": {
      "image/png": "[encoded data removed]",
      "text/plain": [
       "<Figure size 640x480 with 1 Axes>"
      ]
     },
     "metadata": {},
     "output_type": "display_data"
    }
   ],
   "source": [
    "import matplotlib.pyplot as plt\n",
    "from xgboost import plot_importance\n",
    "\n",
    "plot_importance(xgb, max_num_features=10, importance_type='gain')\n",
    "plt.show()\n"
   ]
  },
  {
   "cell_type": "code",
   "execution_count": null,
   "id": "08773340",
   "metadata": {},
   "outputs": [],
   "source": [
    "\n"
   ]
  },
  {
   "cell_type": "code",
   "execution_count": 65,
   "id": "799293b2",
   "metadata": {},
   "outputs": [],
   "source": [
    "# saving the model in onnxruntime format\n",
    "import onnxmltools\n",
    "from onnxmltools.convert import convert_xgboost\n",
    "from onnxmltools.convert.common.data_types import FloatTensorType\n",
    "\n",
    "# Define input shape: (batch_size, num_features)\n",
    "initial_type = [('input', FloatTensorType([None, X_train.shape[1]]))]\n",
    "\n",
    "# Convert the model\n",
    "onnx_model = convert_xgboost(xgb, initial_types=initial_type)\n",
    "\n",
    "# Save to file\n",
    "onnxmltools.utils.save_model(onnx_model, \"model.onnx\")\n"
   ]
  },
  {
   "cell_type": "code",
   "execution_count": 31,
   "id": "3d39de18",
   "metadata": {},
   "outputs": [
    {
     "name": "stdout",
     "output_type": "stream",
     "text": [
      "[array([0]), array([[0.8566205 , 0.06689893, 0.07648052]], dtype=float32)]\n"
     ]
    }
   ],
   "source": [
    "import onnxruntime as ort\n",
    "import numpy as np\n",
    "\n",
    "# Load ONNX model\n",
    "session = ort.InferenceSession(\"model.onnx\", providers=['CPUExecutionProvider'])\n",
    "\n",
    "# Prepare input dict\n",
    "input_name = session.get_inputs()[0].name\n",
    "X_sample = X_test.iloc[0:1].values.astype(np.float32)\n",
    "\n",
    "# Run inference\n",
    "pred = session.run(None, {input_name: X_sample})\n",
    "print(pred)  # usually [probabilities]\n"
   ]
  },
  {
   "cell_type": "code",
   "execution_count": null,
   "id": "10111264",
   "metadata": {},
   "outputs": [],
   "source": []
  },
  {
   "cell_type": "code",
   "execution_count": null,
   "id": "4765221a",
   "metadata": {},
   "outputs": [],
   "source": [
    "\n"
   ]
  },
  {
   "cell_type": "code",
   "execution_count": 36,
   "id": "393180c0",
   "metadata": {},
   "outputs": [],
   "source": [
    "SCALER_PATH = r\"C:\\downloads\\ULTRA_LOW_LATENCY_TRADER\\preprocessor.pkl\" # Saved during training\n",
    "\n",
    "scaler = joblib.load(SCALER_PATH)\n"
   ]
  },
  {
   "cell_type": "code",
   "execution_count": 37,
   "id": "27428e22",
   "metadata": {},
   "outputs": [],
   "source": [
    "import logging"
   ]
  },
  {
   "cell_type": "code",
   "execution_count": 38,
   "id": "e1655f81",
   "metadata": {},
   "outputs": [],
   "source": [
    "def predict(features_df: pd.DataFrame) -> int:\n",
    "    try:\n",
    "        features = features_df[[\n",
    "            \"price_now\", \"return_5\", \"rolling_mean_5\", \"rolling_std_5\",\n",
    "            \"vwap_diff\", \"volume_sum_5\", \"rsi_5\", \"tick_inter_arrival_time\"\n",
    "        ]]\n",
    "\n",
    "        # Scale features\n",
    "        scaled_features = scaler.transform(features.astype(np.float32))\n",
    "\n",
    "        # Inference\n",
    "        prediction = session.run(None, {input_name: scaled_features})[0]\n",
    "        predicted_class = int(prediction[0])\n",
    "\n",
    "        logging.info(f\"✅ Prediction: {predicted_class}\")\n",
    "        return predicted_class\n",
    "\n",
    "    except Exception as e:\n",
    "        logging.exception(\"❌ Prediction error\")\n",
    "        return "
   ]
  },
  {
   "cell_type": "code",
   "execution_count": 39,
   "id": "3056929c",
   "metadata": {},
   "outputs": [
    {
     "name": "stderr",
     "output_type": "stream",
     "text": [
      "ERROR:root:❌ Prediction error\n",
      "Traceback (most recent call last):\n",
      "  File \"C:\\Users\\Ayush paul\\AppData\\Local\\Temp\\ipykernel_23484\\2991523030.py\", line 12, in predict\n",
      "    prediction = session.run(None, {input_name: scaled_features})[0]\n",
      "  File \"c:\\downloads\\ULTRA_LOW_LATENCY_TRADER\\venv\\lib\\site-packages\\onnxruntime\\capi\\onnxruntime_inference_collection.py\", line 273, in run\n",
      "    return self._sess.run(output_names, input_feed, run_options)\n",
      "onnxruntime.capi.onnxruntime_pybind11_state.InvalidArgument: [ONNXRuntimeError] : 2 : INVALID_ARGUMENT : Got invalid dimensions for input: input for the following indices\n",
      " index: 1 Got: 8 Expected: 9\n",
      " Please fix either the inputs/outputs or the model.\n"
     ]
    },
    {
     "name": "stdout",
     "output_type": "stream",
     "text": [
      "None\n"
     ]
    }
   ],
   "source": [
    "\n",
    "test_df = pd.DataFrame([{\n",
    "    \"price_now\": 29284.2,\n",
    "    \"return_5\": 0.001,\n",
    "    \"rolling_mean_5\": 29270.5,\n",
    "    \"rolling_std_5\": 10.2,\n",
    "    \"vwap_diff\": -2.5,\n",
    "    \"volume_sum_5\": 3.5,\n",
    "    \"rsi_5\": 45.0,\n",
    "    \"tick_inter_arrival_time\": 0.5\n",
    "}])\n",
    "print(predict(test_df))"
   ]
  },
  {
   "cell_type": "code",
   "execution_count": 40,
   "id": "992ee7e0",
   "metadata": {},
   "outputs": [
    {
     "name": "stdout",
     "output_type": "stream",
     "text": [
      "🧠 ONNX Input Name: input\n",
      "🧠 ONNX Input Shape: [None, 9]\n",
      "🧠 ONNX Input Type: tensor(float)\n"
     ]
    }
   ],
   "source": [
    "import onnxruntime as ort\n",
    "\n",
    "session = ort.InferenceSession(\"model.onnx\")\n",
    "input_meta = session.get_inputs()[0]\n",
    "print(\" ONNX Input Name:\", input_meta.name)\n",
    "print(\" ONNX Input Shape:\", input_meta.shape)\n",
    "print(\" ONNX Input Type:\", input_meta.type)\n"
   ]
  },
  {
   "cell_type": "code",
   "execution_count": null,
   "id": "442739b8",
   "metadata": {},
   "outputs": [],
   "source": []
  },
  {
   "cell_type": "code",
   "execution_count": null,
   "id": "b81a9365",
   "metadata": {},
   "outputs": [],
   "source": []
  },
  {
   "cell_type": "code",
   "execution_count": null,
   "id": "800b6352",
   "metadata": {},
   "outputs": [],
   "source": [
    "\n"
   ]
  },
  {
   "cell_type": "code",
   "execution_count": null,
   "id": "36e671e5",
   "metadata": {},
   "outputs": [],
   "source": []
  },
  {
   "cell_type": "code",
   "execution_count": null,
   "id": "ee45f6bd",
   "metadata": {},
   "outputs": [],
   "source": []
  },
  {
   "cell_type": "code",
   "execution_count": null,
   "id": "8315473b",
   "metadata": {},
   "outputs": [],
   "source": []
  }
 ],
 "metadata": {
  "kernelspec": {
   "display_name": "Python 3",
   "language": "python",
   "name": "python3"
  },
  "language_info": {
   "codemirror_mode": {
    "name": "ipython",
    "version": 3
   },
   "file_extension": ".py",
   "mimetype": "text/x-python",
   "name": "python",
   "nbconvert_exporter": "python",
   "pygments_lexer": "ipython3",
   "version": "3.10.18"
  }
 },
 "nbformat": 4,
 "nbformat_minor": 5
}
