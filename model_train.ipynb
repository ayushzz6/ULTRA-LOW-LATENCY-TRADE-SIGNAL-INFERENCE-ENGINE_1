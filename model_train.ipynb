{
 "cells": [
  {
   "cell_type": "code",
   "execution_count": 9,
   "id": "f07fd4ea",
   "metadata": {},
   "outputs": [
    {
     "name": "stdout",
     "output_type": "stream",
     "text": [
      "   5113453730  117614.31000000  0.02367000  2783.93071770  1753488000071403  \\\n",
      "0  5113453731        117614.32     0.00144     169.364621  1753488000298854   \n",
      "1  5113453732        117614.32     0.05349    6291.189977  1753488000481234   \n",
      "2  5113453733        117614.32     0.25920   30485.631744  1753488000481234   \n",
      "3  5113453734        117614.32     0.06275    7380.298580  1753488000481234   \n",
      "4  5113453735        117614.32     0.00008       9.409146  1753488000681676   \n",
      "\n",
      "    True  True.1  \n",
      "0  False    True  \n",
      "1  False    True  \n",
      "2  False    True  \n",
      "3  False    True  \n",
      "4  False    True  \n",
      "Index(['5113453730', '117614.31000000', '0.02367000', '2783.93071770',\n",
      "       '1753488000071403', 'True', 'True.1'],\n",
      "      dtype='object')\n"
     ]
    }
   ],
   "source": [
    "import pandas as pd\n",
    "\n",
    "# Load the data\n",
    "df = pd.read_csv(r'C:\\downloads\\ULTRA_LOW_LATENCY_TRADER\\BTCUSDT-trades-2025-07-26.csv')\n",
    "\n",
    "# Print the first few rows\n",
    "print(df.head())\n",
    "\n",
    "# Print the column names\n",
    "print(df.columns)\n"
   ]
  },
  {
   "cell_type": "code",
   "execution_count": 10,
   "id": "e1dda415",
   "metadata": {},
   "outputs": [],
   "source": [
    "columns = [\n",
    "    \"trade_id\",     # Unique trade ID\n",
    "    \"price\",        # Trade price\n",
    "    \"qty\",          # Quantity traded\n",
    "    \"quote_qty\",    # Quote quantity\n",
    "    \"timestamp\",    # Timestamp (in milliseconds)\n",
    "    \"is_buyer_maker\",  # Whether buyer is the market maker\n",
    "    \"is_best_match\"    # Whether it's the best match\n",
    "]\n"
   ]
  },
  {
   "cell_type": "code",
   "execution_count": 11,
   "id": "c077ca61",
   "metadata": {},
   "outputs": [],
   "source": [
    "df = pd.read_csv(r\"C:\\downloads\\ULTRA_LOW_LATENCY_TRADER\\BTCUSDT-trades-2025-07-26.csv\", header=None, names=columns)\n"
   ]
  },
  {
   "cell_type": "code",
   "execution_count": 12,
   "id": "a3bbc335",
   "metadata": {},
   "outputs": [
    {
     "data": {
      "text/html": [
       "<div>\n",
       "<style scoped>\n",
       "    .dataframe tbody tr th:only-of-type {\n",
       "        vertical-align: middle;\n",
       "    }\n",
       "\n",
       "    .dataframe tbody tr th {\n",
       "        vertical-align: top;\n",
       "    }\n",
       "\n",
       "    .dataframe thead th {\n",
       "        text-align: right;\n",
       "    }\n",
       "</style>\n",
       "<table border=\"1\" class=\"dataframe\">\n",
       "  <thead>\n",
       "    <tr style=\"text-align: right;\">\n",
       "      <th></th>\n",
       "      <th>trade_id</th>\n",
       "      <th>price</th>\n",
       "      <th>qty</th>\n",
       "      <th>quote_qty</th>\n",
       "      <th>timestamp</th>\n",
       "      <th>is_buyer_maker</th>\n",
       "      <th>is_best_match</th>\n",
       "    </tr>\n",
       "  </thead>\n",
       "  <tbody>\n",
       "    <tr>\n",
       "      <th>0</th>\n",
       "      <td>5113453730</td>\n",
       "      <td>117614.31</td>\n",
       "      <td>0.02367</td>\n",
       "      <td>2783.930718</td>\n",
       "      <td>1753488000071403</td>\n",
       "      <td>True</td>\n",
       "      <td>True</td>\n",
       "    </tr>\n",
       "    <tr>\n",
       "      <th>1</th>\n",
       "      <td>5113453731</td>\n",
       "      <td>117614.32</td>\n",
       "      <td>0.00144</td>\n",
       "      <td>169.364621</td>\n",
       "      <td>1753488000298854</td>\n",
       "      <td>False</td>\n",
       "      <td>True</td>\n",
       "    </tr>\n",
       "    <tr>\n",
       "      <th>2</th>\n",
       "      <td>5113453732</td>\n",
       "      <td>117614.32</td>\n",
       "      <td>0.05349</td>\n",
       "      <td>6291.189977</td>\n",
       "      <td>1753488000481234</td>\n",
       "      <td>False</td>\n",
       "      <td>True</td>\n",
       "    </tr>\n",
       "    <tr>\n",
       "      <th>3</th>\n",
       "      <td>5113453733</td>\n",
       "      <td>117614.32</td>\n",
       "      <td>0.25920</td>\n",
       "      <td>30485.631744</td>\n",
       "      <td>1753488000481234</td>\n",
       "      <td>False</td>\n",
       "      <td>True</td>\n",
       "    </tr>\n",
       "    <tr>\n",
       "      <th>4</th>\n",
       "      <td>5113453734</td>\n",
       "      <td>117614.32</td>\n",
       "      <td>0.06275</td>\n",
       "      <td>7380.298580</td>\n",
       "      <td>1753488000481234</td>\n",
       "      <td>False</td>\n",
       "      <td>True</td>\n",
       "    </tr>\n",
       "  </tbody>\n",
       "</table>\n",
       "</div>"
      ],
      "text/plain": [
       "     trade_id      price      qty     quote_qty         timestamp  \\\n",
       "0  5113453730  117614.31  0.02367   2783.930718  1753488000071403   \n",
       "1  5113453731  117614.32  0.00144    169.364621  1753488000298854   \n",
       "2  5113453732  117614.32  0.05349   6291.189977  1753488000481234   \n",
       "3  5113453733  117614.32  0.25920  30485.631744  1753488000481234   \n",
       "4  5113453734  117614.32  0.06275   7380.298580  1753488000481234   \n",
       "\n",
       "   is_buyer_maker  is_best_match  \n",
       "0            True           True  \n",
       "1           False           True  \n",
       "2           False           True  \n",
       "3           False           True  \n",
       "4           False           True  "
      ]
     },
     "execution_count": 12,
     "metadata": {},
     "output_type": "execute_result"
    }
   ],
   "source": [
    "df.head(5)"
   ]
  },
  {
   "cell_type": "code",
   "execution_count": null,
   "id": "878b2891",
   "metadata": {},
   "outputs": [],
   "source": [
    "\n",
    "\n"
   ]
  },
  {
   "cell_type": "code",
   "execution_count": 3,
   "id": "ae418f30",
   "metadata": {},
   "outputs": [],
   "source": [
    "import pandas as pd"
   ]
  },
  {
   "cell_type": "code",
   "execution_count": 4,
   "id": "425c9a5c",
   "metadata": {},
   "outputs": [],
   "source": [
    "df = pd.read_csv(r\"C:\\downloads\\ULTRA_LOW_LATENCY_TRADE_SIGNAL_ENGINE\\computed_features_from_trades.csv\")\n"
   ]
  },
  {
   "cell_type": "code",
   "execution_count": 5,
   "id": "e42f7d08",
   "metadata": {},
   "outputs": [],
   "source": [
    "next_price = df['price_now'].shift(-1)\n",
    "\n",
    "df['target'] = 0  # Default: Hold\n",
    "df.loc[next_price > df['price_now'], 'target'] = 1  # Buy\n",
    "df.loc[next_price < df['price_now'], 'target'] = 2  # Sell"
   ]
  },
  {
   "cell_type": "code",
   "execution_count": 6,
   "id": "ca016b92",
   "metadata": {},
   "outputs": [
    {
     "data": {
      "text/html": [
       "<div>\n",
       "<style scoped>\n",
       "    .dataframe tbody tr th:only-of-type {\n",
       "        vertical-align: middle;\n",
       "    }\n",
       "\n",
       "    .dataframe tbody tr th {\n",
       "        vertical-align: top;\n",
       "    }\n",
       "\n",
       "    .dataframe thead th {\n",
       "        text-align: right;\n",
       "    }\n",
       "</style>\n",
       "<table border=\"1\" class=\"dataframe\">\n",
       "  <thead>\n",
       "    <tr style=\"text-align: right;\">\n",
       "      <th></th>\n",
       "      <th>timestamp</th>\n",
       "      <th>price_now</th>\n",
       "      <th>return_5</th>\n",
       "      <th>rolling_mean_5</th>\n",
       "      <th>rolling_std_5</th>\n",
       "      <th>vwap_diff</th>\n",
       "      <th>volume_sum_5</th>\n",
       "      <th>rsi_5</th>\n",
       "      <th>tick_inter_arrival_time</th>\n",
       "      <th>target</th>\n",
       "    </tr>\n",
       "  </thead>\n",
       "  <tbody>\n",
       "    <tr>\n",
       "      <th>0</th>\n",
       "      <td>2025-08-02 00:00:00.908577</td>\n",
       "      <td>113297.93</td>\n",
       "      <td>8.826287e-08</td>\n",
       "      <td>113297.926</td>\n",
       "      <td>0.004899</td>\n",
       "      <td>-0.009192</td>\n",
       "      <td>0.16470</td>\n",
       "      <td>50.00000</td>\n",
       "      <td>0.000000</td>\n",
       "      <td>0</td>\n",
       "    </tr>\n",
       "    <tr>\n",
       "      <th>1</th>\n",
       "      <td>2025-08-02 00:00:01.000853</td>\n",
       "      <td>113297.93</td>\n",
       "      <td>0.000000e+00</td>\n",
       "      <td>113297.928</td>\n",
       "      <td>0.004000</td>\n",
       "      <td>-0.009144</td>\n",
       "      <td>0.15593</td>\n",
       "      <td>50.00000</td>\n",
       "      <td>0.001412</td>\n",
       "      <td>2</td>\n",
       "    </tr>\n",
       "    <tr>\n",
       "      <th>2</th>\n",
       "      <td>2025-08-02 00:00:01.244230</td>\n",
       "      <td>113297.92</td>\n",
       "      <td>-8.826287e-08</td>\n",
       "      <td>113297.926</td>\n",
       "      <td>0.004899</td>\n",
       "      <td>0.000605</td>\n",
       "      <td>0.15244</td>\n",
       "      <td>50.00000</td>\n",
       "      <td>0.001412</td>\n",
       "      <td>0</td>\n",
       "    </tr>\n",
       "    <tr>\n",
       "      <th>3</th>\n",
       "      <td>2025-08-02 00:00:01.244230</td>\n",
       "      <td>113297.92</td>\n",
       "      <td>0.000000e+00</td>\n",
       "      <td>113297.924</td>\n",
       "      <td>0.004899</td>\n",
       "      <td>0.000324</td>\n",
       "      <td>0.14805</td>\n",
       "      <td>50.00000</td>\n",
       "      <td>0.001412</td>\n",
       "      <td>0</td>\n",
       "    </tr>\n",
       "    <tr>\n",
       "      <th>4</th>\n",
       "      <td>2025-08-02 00:00:01.244230</td>\n",
       "      <td>113297.92</td>\n",
       "      <td>-8.826287e-08</td>\n",
       "      <td>113297.924</td>\n",
       "      <td>0.004899</td>\n",
       "      <td>0.002843</td>\n",
       "      <td>0.01685</td>\n",
       "      <td>0.00001</td>\n",
       "      <td>0.001412</td>\n",
       "      <td>0</td>\n",
       "    </tr>\n",
       "  </tbody>\n",
       "</table>\n",
       "</div>"
      ],
      "text/plain": [
       "                    timestamp  price_now      return_5  rolling_mean_5  \\\n",
       "0  2025-08-02 00:00:00.908577  113297.93  8.826287e-08      113297.926   \n",
       "1  2025-08-02 00:00:01.000853  113297.93  0.000000e+00      113297.928   \n",
       "2  2025-08-02 00:00:01.244230  113297.92 -8.826287e-08      113297.926   \n",
       "3  2025-08-02 00:00:01.244230  113297.92  0.000000e+00      113297.924   \n",
       "4  2025-08-02 00:00:01.244230  113297.92 -8.826287e-08      113297.924   \n",
       "\n",
       "   rolling_std_5  vwap_diff  volume_sum_5     rsi_5  tick_inter_arrival_time  \\\n",
       "0       0.004899  -0.009192       0.16470  50.00000                 0.000000   \n",
       "1       0.004000  -0.009144       0.15593  50.00000                 0.001412   \n",
       "2       0.004899   0.000605       0.15244  50.00000                 0.001412   \n",
       "3       0.004899   0.000324       0.14805  50.00000                 0.001412   \n",
       "4       0.004899   0.002843       0.01685   0.00001                 0.001412   \n",
       "\n",
       "   target  \n",
       "0       0  \n",
       "1       2  \n",
       "2       0  \n",
       "3       0  \n",
       "4       0  "
      ]
     },
     "execution_count": 6,
     "metadata": {},
     "output_type": "execute_result"
    }
   ],
   "source": [
    "df.head()  # Display the first few rows of the DataFrame"
   ]
  },
  {
   "cell_type": "code",
   "execution_count": 7,
   "id": "77ecf7b2",
   "metadata": {},
   "outputs": [
    {
     "name": "stdout",
     "output_type": "stream",
     "text": [
      "<class 'pandas.core.frame.DataFrame'>\n",
      "RangeIndex: 1959328 entries, 0 to 1959327\n",
      "Data columns (total 10 columns):\n",
      " #   Column                   Dtype  \n",
      "---  ------                   -----  \n",
      " 0   timestamp                object \n",
      " 1   price_now                float64\n",
      " 2   return_5                 float64\n",
      " 3   rolling_mean_5           float64\n",
      " 4   rolling_std_5            float64\n",
      " 5   vwap_diff                float64\n",
      " 6   volume_sum_5             float64\n",
      " 7   rsi_5                    float64\n",
      " 8   tick_inter_arrival_time  float64\n",
      " 9   target                   int64  \n",
      "dtypes: float64(8), int64(1), object(1)\n",
      "memory usage: 149.5+ MB\n"
     ]
    }
   ],
   "source": [
    "df.info()"
   ]
  },
  {
   "cell_type": "code",
   "execution_count": 9,
   "id": "3247a1de",
   "metadata": {},
   "outputs": [],
   "source": [
    "df.drop(columns=['timestamp'], inplace=True)\n"
   ]
  },
  {
   "cell_type": "code",
   "execution_count": 10,
   "id": "d314f6e4",
   "metadata": {},
   "outputs": [
    {
     "data": {
      "text/plain": [
       "Text(0.5, 1.0, 'Correlation Matrix')"
      ]
     },
     "execution_count": 10,
     "metadata": {},
     "output_type": "execute_result"
    },
    {
     "data": {
      "image/png": "[encoded data removed]",
      "text/plain": [
       "<Figure size 1200x800 with 2 Axes>"
      ]
     },
     "metadata": {},
     "output_type": "display_data"
    }
   ],
   "source": [
    "# correlation matrix\n",
    "import seaborn as sns\n",
    "import matplotlib.pyplot as plt\n",
    "plt.figure(figsize=(12, 8))\n",
    "sns.heatmap(df.corr(), annot=True, fmt=\".2f\", cmap='coolwarm', square=True)\n",
    "plt.title('Correlation Matrix')\n"
   ]
  },
  {
   "cell_type": "code",
   "execution_count": 11,
   "id": "18ea26e1",
   "metadata": {},
   "outputs": [
    {
     "data": {
      "image/png": "[encoded data removed]",
      "text/plain": [
       "<Figure size 800x600 with 1 Axes>"
      ]
     },
     "metadata": {},
     "output_type": "display_data"
    }
   ],
   "source": [
    "# pie chart for different classes\n",
    "import matplotlib.pyplot as plt\n",
    "import numpy as np  \n",
    "labels = df['target'].value_counts().index\n",
    "sizes = df['target'].value_counts().values\n",
    "plt.figure(figsize=(8, 6))\n",
    "plt.pie(sizes, labels=labels, autopct='%1.1f%%', startangle=140)\n",
    "plt.title('Distribution of Target Classes') \n",
    "plt.show()"
   ]
  },
  {
   "cell_type": "code",
   "execution_count": 12,
   "id": "2f50406c",
   "metadata": {},
   "outputs": [
    {
     "data": {
      "text/plain": [
       "(1959328, 9)"
      ]
     },
     "execution_count": 12,
     "metadata": {},
     "output_type": "execute_result"
    }
   ],
   "source": [
    "# drop timestamp \n",
    "#df.drop(columns=['timestamp'], inplace=True)\n",
    "df.shape"
   ]
  },
  {
   "cell_type": "code",
   "execution_count": 13,
   "id": "21f2b94f",
   "metadata": {},
   "outputs": [],
   "source": [
    "# down sample the majority class using resample\n",
    "from sklearn.utils import resample\n",
    "from sklearn.model_selection import train_test_split\n",
    "\n",
    "majority_class = df[df['target'] == 0]\n",
    "minority_class = df[df['target'] == 1]\n",
    "minority_class2 = df[df['target'] == 2]\n",
    "\n",
    "\n",
    "majority_class_downsampled = resample(majority_class, replace=False, n_samples=280000, random_state=42)\n",
    "# upsample minority class\n",
    "minority_class_downsampled = resample(minority_class2, replace=True, n_samples=200000, random_state=42)\n",
    "minority_class_downsampled2 = resample(minority_class, replace=True, n_samples=200000, random_state=42)\n",
    "\n",
    "\n",
    "# Combine downsampled majority class with minority class\n",
    "df_downsampled = pd.concat([majority_class_downsampled, minority_class_downsampled2, minority_class_downsampled], ignore_index=True)\n",
    "\n",
    "# combine resampled minority class with majority class\n"
   ]
  },
  {
   "cell_type": "code",
   "execution_count": 14,
   "id": "1287a84a",
   "metadata": {},
   "outputs": [
    {
     "data": {
      "text/plain": [
       "target\n",
       "0    280000\n",
       "1    200000\n",
       "2    200000\n",
       "Name: count, dtype: int64"
      ]
     },
     "execution_count": 14,
     "metadata": {},
     "output_type": "execute_result"
    }
   ],
   "source": [
    "df_downsampled['target'].value_counts()"
   ]
  },
  {
   "cell_type": "code",
   "execution_count": null,
   "id": "9d36ea56",
   "metadata": {},
   "outputs": [],
   "source": []
  },
  {
   "cell_type": "code",
   "execution_count": 19,
   "id": "66b915fa",
   "metadata": {},
   "outputs": [],
   "source": [
    "# train-test split\n",
    "from sklearn.model_selection import train_test_split\n",
    "X = df_downsampled.drop(columns=['target'])\n",
    "y = df_downsampled['target']\n",
    "X_train, X_test, y_train, y_test = train_test_split(X, y, test_size=0.3, random_state=42)"
   ]
  },
  {
   "cell_type": "code",
   "execution_count": 20,
   "id": "49e9b8b2",
   "metadata": {},
   "outputs": [],
   "source": [
    "from sklearn.compose import ColumnTransformer\n",
    "from sklearn.preprocessing import StandardScaler, MinMaxScaler\n",
    "\n",
    "# Define feature groups\n",
    "standard_cols = [\n",
    "    \"price_now\", \"return_5\", \"rolling_mean_5\", \"rolling_std_5\", \n",
    "    \"vwap_diff\", \"volume_sum_5\"\n",
    "]\n",
    "\n",
    "minmax_cols = [\"rsi_5\", \"tick_inter_arrival_time\"]\n",
    "\n",
    "# Create the column transformer\n",
    "preprocessor = ColumnTransformer(transformers=[\n",
    "    ('std_scaler', StandardScaler(), standard_cols),\n",
    "    ('minmax_scaler', MinMaxScaler(), minmax_cols)\n",
    "])\n",
    "\n",
    "# Fit and transform on training set\n",
    "X_train_scaled = preprocessor.fit_transform(X_train)\n",
    "\n",
    "# Transform on test set\n",
    "X_test_scaled = preprocessor.transform(X_test)\n"
   ]
  },
  {
   "cell_type": "code",
   "execution_count": 33,
   "id": "74131bb2",
   "metadata": {},
   "outputs": [
    {
     "data": {
      "text/plain": [
       "['preprocessor.joblib']"
      ]
     },
     "execution_count": 33,
     "metadata": {},
     "output_type": "execute_result"
    }
   ],
   "source": [
    "import joblib\n",
    "\n",
    "# Save the preprocessor\n",
    "joblib.dump(preprocessor, \"preprocessor.joblib\")\n"
   ]
  },
  {
   "cell_type": "code",
   "execution_count": 22,
   "id": "df1e9b00",
   "metadata": {},
   "outputs": [
    {
     "name": "stderr",
     "output_type": "stream",
     "text": [
      "c:\\downloads\\ULTRA_LOW_LATENCY_TRADE_SIGNAL_ENGINE\\venv\\lib\\site-packages\\xgboost\\training.py:183: UserWarning: [00:31:46] WARNING: C:\\actions-runner\\_work\\xgboost\\xgboost\\src\\common\\error_msg.cc:27: The tree method `gpu_hist` is deprecated since 2.0.0. To use GPU training, set the `device` parameter to CUDA instead.\n",
      "\n",
      "    E.g. tree_method = \"hist\", device = \"cuda\"\n",
      "\n",
      "  bst.update(dtrain, iteration=i, fobj=obj)\n",
      "c:\\downloads\\ULTRA_LOW_LATENCY_TRADE_SIGNAL_ENGINE\\venv\\lib\\site-packages\\xgboost\\training.py:183: UserWarning: [00:31:46] WARNING: C:\\actions-runner\\_work\\xgboost\\xgboost\\src\\learner.cc:738: \n",
      "Parameters: { \"use_label_encoder\" } are not used.\n",
      "\n",
      "  bst.update(dtrain, iteration=i, fobj=obj)\n",
      "c:\\downloads\\ULTRA_LOW_LATENCY_TRADE_SIGNAL_ENGINE\\venv\\lib\\site-packages\\xgboost\\core.py:2676: UserWarning: [00:32:14] WARNING: C:\\actions-runner\\_work\\xgboost\\xgboost\\src\\common\\error_msg.cc:27: The tree method `gpu_hist` is deprecated since 2.0.0. To use GPU training, set the `device` parameter to CUDA instead.\n",
      "\n",
      "    E.g. tree_method = \"hist\", device = \"cuda\"\n",
      "\n",
      "  if len(data.shape) != 1 and self.num_features() != data.shape[1]:\n",
      "c:\\downloads\\ULTRA_LOW_LATENCY_TRADE_SIGNAL_ENGINE\\venv\\lib\\site-packages\\xgboost\\core.py:729: UserWarning: [00:32:14] WARNING: C:\\actions-runner\\_work\\xgboost\\xgboost\\src\\common\\error_msg.cc:58: Falling back to prediction using DMatrix due to mismatched devices. This might lead to higher memory usage and slower performance. XGBoost is running on: cuda:0, while the input data is on: cpu.\n",
      "Potential solutions:\n",
      "- Use a data structure that matches the device ordinal in the booster.\n",
      "- Set the device for booster before call to inplace_predict.\n",
      "\n",
      "This warning will only be shown once.\n",
      "\n",
      "  return func(**kwargs)\n"
     ]
    },
    {
     "name": "stdout",
     "output_type": "stream",
     "text": [
      "Classification Report:\n",
      "               precision    recall  f1-score   support\n",
      "\n",
      "           0       0.67      0.77      0.72     84118\n",
      "           1       0.81      0.73      0.77     59657\n",
      "           2       0.79      0.71      0.75     60225\n",
      "\n",
      "    accuracy                           0.74    204000\n",
      "   macro avg       0.76      0.73      0.74    204000\n",
      "weighted avg       0.75      0.74      0.74    204000\n",
      "\n",
      "confusion matrix:\n",
      " [[64504  8975 10639]\n",
      " [15146 43476  1035]\n",
      " [16503  1026 42696]]\n",
      "ROC AUC Score: 0.8767054120950654\n"
     ]
    }
   ],
   "source": [
    "# xgboost classifier\n",
    "from xgboost import XGBClassifier\n",
    "from sklearn.metrics import classification_report, accuracy_score , confusion_matrix , roc_auc_score\n",
    "\n",
    "xgb = XGBClassifier(\n",
    "    n_estimators=600, \n",
    "    learning_rate=0.3,\n",
    "    max_depth=9, \n",
    "    random_state=96,\n",
    "    use_label_encoder=False,\n",
    "    eval_metric='mlogloss',\n",
    "    subsample=0.8,\n",
    "    colsample_bytree=0.8,\n",
    "    objective='multi:softprob',\n",
    "    num_class=3,\n",
    "    tree_method='gpu_hist'  # Use GPU acceleration if available\n",
    ")\n",
    "\n",
    "xgb.fit(X_train_scaled, y_train)\n",
    "y_pred = xgb.predict(X_test_scaled)\n",
    "print(\"Classification Report:\\n\", classification_report(y_test, y_pred))\n",
    "print(\"confusion matrix:\\n\", confusion_matrix(y_test, y_pred))\n",
    "\n",
    "print(\"ROC AUC Score:\", roc_auc_score(y_test, xgb.predict_proba(X_test_scaled), multi_class='ovr'))\n"
   ]
  },
  {
   "cell_type": "code",
   "execution_count": 30,
   "id": "b9af6cda",
   "metadata": {},
   "outputs": [
    {
     "name": "stdout",
     "output_type": "stream",
     "text": [
      "Accuracy: 0.7386\n"
     ]
    }
   ],
   "source": [
    "# accuracy score\n",
    "accuracy = accuracy_score(y_test, y_pred)\n",
    "print(f\"Accuracy: {accuracy:.4f}\")\n",
    "\n"
   ]
  },
  {
   "cell_type": "code",
   "execution_count": null,
   "id": "9dcbb0c3",
   "metadata": {},
   "outputs": [
    {
     "data": {
      "text/plain": [
       "'from sklearn.model_selection import GridSearchCV , RandomizedSearchCV\\n\\nparam_grid = {\\n    \\'n_estimators\\': [100, 200],\\n    \\'max_depth\\': [4, 5, 6],\\n    \\'learning_rate\\': [0.05, 0.1, 0.2],\\n    \\'subsample\\': [0.7, 0.8, 1.0],\\n    \\'colsample_bytree\\': [0.7, 0.8, 1.0]\\n}\\n\\ngrid_search = GridSearchCV(\\n    estimator = XGBClassifier(\\n    n_estimators=100, \\n    learning_rate=0.1, \\n    max_depth=6, \\n    random_state=42,\\n    use_label_encoder=False,\\n    eval_metric=\\'mlogloss\\',\\n    subsample=0.8,\\n    colsample_bytree=0.8,\\n    objective=\\'multi:softprob\\',\\n    num_class=3,\\n    tree_method=\\'gpu_hist\\'  # Use GPU acceleration if available\\n),\\n    param_grid=param_grid,\\n    scoring=\\'roc_auc\\',\\n    cv=3,\\n    verbose=1,\\n    n_jobs=-1\\n)\\n\\ngrid_search.fit(X_train, y_train)\\n\\n# Best model\\nbest_model = grid_search.best_estimator_\\n\\n# Predict with best model\\ny_pred_best = best_model.predict(X_test)\\nprint(classification_report(y_test, y_pred_best))\\nprint(\"Confusion Matrix:\")\\nprint(confusion_matrix(y_test, y_pred_best ))'"
      ]
     },
     "execution_count": 82,
     "metadata": {},
     "output_type": "execute_result"
    }
   ],
   "source": [
    "'''from sklearn.model_selection import GridSearchCV , RandomizedSearchCV\n",
    "\n",
    "param_grid = {\n",
    "    'n_estimators': [100, 200],\n",
    "    'max_depth': [4, 5, 6],\n",
    "    'learning_rate': [0.05, 0.1, 0.2],\n",
    "    'subsample': [0.7, 0.8, 1.0],\n",
    "    'colsample_bytree': [0.7, 0.8, 1.0]\n",
    "}\n",
    "\n",
    "grid_search = GridSearchCV(\n",
    "    estimator = XGBClassifier(\n",
    "    n_estimators=100, \n",
    "    learning_rate=0.1, \n",
    "    max_depth=6, \n",
    "    random_state=42,\n",
    "    use_label_encoder=False,\n",
    "    eval_metric='mlogloss',\n",
    "    subsample=0.8,\n",
    "    colsample_bytree=0.8,\n",
    "    objective='multi:softprob',\n",
    "    num_class=3,\n",
    "    tree_method='gpu_hist'  # Use GPU acceleration if available\n",
    "),\n",
    "    param_grid=param_grid,\n",
    "    scoring='roc_auc',\n",
    "    cv=3,\n",
    "    verbose=1,\n",
    "    n_jobs=-1\n",
    ")\n",
    "\n",
    "grid_search.fit(X_train, y_train)\n",
    "\n",
    "# Best model\n",
    "best_model = grid_search.best_estimator_\n",
    "\n",
    "# Predict with best model\n",
    "y_pred_best = best_model.predict(X_test)\n",
    "print(classification_report(y_test, y_pred_best))\n",
    "\\\n",
    "print(\"Confusion Matrix:\")\n",
    "print(confusion_matrix(y_test, y_pred_best ))'''\n"
   ]
  },
  {
   "cell_type": "code",
   "execution_count": 63,
   "id": "4b8f1d08",
   "metadata": {},
   "outputs": [
    {
     "data": {
      "image/png": "[encoded data removed]",
      "text/plain": [
       "<Figure size 640x480 with 1 Axes>"
      ]
     },
     "metadata": {},
     "output_type": "display_data"
    }
   ],
   "source": [
    "import matplotlib.pyplot as plt\n",
    "from xgboost import plot_importance\n",
    "\n",
    "plot_importance(xgb, max_num_features=10, importance_type='gain')\n",
    "plt.show()\n"
   ]
  },
  {
   "cell_type": "code",
   "execution_count": null,
   "id": "08773340",
   "metadata": {},
   "outputs": [],
   "source": [
    "\n"
   ]
  },
  {
   "cell_type": "code",
   "execution_count": 65,
   "id": "799293b2",
   "metadata": {},
   "outputs": [],
   "source": [
    "# saving the model in onnxruntime format\n",
    "import onnxmltools\n",
    "from onnxmltools.convert import convert_xgboost\n",
    "from onnxmltools.convert.common.data_types import FloatTensorType\n",
    "\n",
    "# Define input shape: (batch_size, num_features)\n",
    "initial_type = [('input', FloatTensorType([None, X_train.shape[1]]))]\n",
    "\n",
    "# Convert the model\n",
    "onnx_model = convert_xgboost(xgb, initial_types=initial_type)\n",
    "\n",
    "# Save to file\n",
    "onnxmltools.utils.save_model(onnx_model, \"model.onnx\")\n"
   ]
  },
  {
   "cell_type": "code",
   "execution_count": 31,
   "id": "3d39de18",
   "metadata": {},
   "outputs": [
    {
     "name": "stdout",
     "output_type": "stream",
     "text": [
      "[array([1, 0, 0, 0, 0, 1, 1, 1, 1, 1]), array([[0.4361126 , 0.52609   , 0.03779742],\n",
      "       [0.92690736, 0.0701132 , 0.00297943],\n",
      "       [0.8431963 , 0.14946412, 0.00733968],\n",
      "       [0.961023  , 0.0367838 , 0.00219316],\n",
      "       [0.7972833 , 0.13781855, 0.06489821],\n",
      "       [0.4609686 , 0.5343103 , 0.00472112],\n",
      "       [0.2646845 , 0.6851409 , 0.05017459],\n",
      "       [0.4609686 , 0.5343103 , 0.00472112],\n",
      "       [0.30923423, 0.6800965 , 0.01066931],\n",
      "       [0.1902939 , 0.7800433 , 0.02966281]], dtype=float32)]\n"
     ]
    }
   ],
   "source": [
    "import onnxruntime as ort\n",
    "import numpy as np\n",
    "\n",
    "# Load ONNX model\n",
    "session = ort.InferenceSession(\"model.onnx\", providers=['CPUExecutionProvider'])\n",
    "\n",
    "# Prepare input dict\n",
    "input_name = session.get_inputs()[0].name\n",
    "X_sample = X_test.iloc[0:10].values.astype(np.float32)\n",
    "\n",
    "# Run inference\n",
    "pred = session.run(None, {input_name: X_sample})\n",
    "print(pred)  # usually [probabilities]\n"
   ]
  },
  {
   "cell_type": "code",
   "execution_count": null,
   "id": "10111264",
   "metadata": {},
   "outputs": [],
   "source": []
  },
  {
   "cell_type": "code",
   "execution_count": null,
   "id": "4765221a",
   "metadata": {},
   "outputs": [],
   "source": [
    "\n"
   ]
  },
  {
   "cell_type": "code",
   "execution_count": 36,
   "id": "393180c0",
   "metadata": {},
   "outputs": [],
   "source": [
    "SCALER_PATH = r\"C:\\downloads\\ULTRA_LOW_LATENCY_TRADER\\preprocessor.pkl\" # Saved during training\n",
    "\n",
    "scaler = joblib.load(SCALER_PATH)\n"
   ]
  },
  {
   "cell_type": "code",
   "execution_count": 37,
   "id": "27428e22",
   "metadata": {},
   "outputs": [],
   "source": [
    "import logging"
   ]
  },
  {
   "cell_type": "code",
   "execution_count": null,
   "id": "e1655f81",
   "metadata": {},
   "outputs": [],
   "source": []
  },
  {
   "cell_type": "code",
   "execution_count": 32,
   "id": "3056929c",
   "metadata": {},
   "outputs": [],
   "source": [
    "\n",
    "test_df = pd.DataFrame([{\n",
    "    \"price_now\": 29284.2,\n",
    "    \"return_5\": 0.001,\n",
    "    \"rolling_mean_5\": 29270.5,\n",
    "    \"rolling_std_5\": 10.2,\n",
    "    \"vwap_diff\": -2.5,\n",
    "    \"volume_sum_5\": 3.5,\n",
    "    \"rsi_5\": 45.0,\n",
    "    \"tick_inter_arrival_time\": 0.5\n",
    "}])\n",
    "#print(predict(test_df))"
   ]
  },
  {
   "cell_type": "code",
   "execution_count": null,
   "id": "992ee7e0",
   "metadata": {},
   "outputs": [],
   "source": [
    "\n"
   ]
  },
  {
   "cell_type": "code",
   "execution_count": null,
   "id": "442739b8",
   "metadata": {},
   "outputs": [],
   "source": []
  },
  {
   "cell_type": "code",
   "execution_count": null,
   "id": "b81a9365",
   "metadata": {},
   "outputs": [],
   "source": []
  },
  {
   "cell_type": "code",
   "execution_count": null,
   "id": "800b6352",
   "metadata": {},
   "outputs": [],
   "source": [
    "\n"
   ]
  },
  {
   "cell_type": "code",
   "execution_count": null,
   "id": "36e671e5",
   "metadata": {},
   "outputs": [],
   "source": []
  },
  {
   "cell_type": "code",
   "execution_count": null,
   "id": "ee45f6bd",
   "metadata": {},
   "outputs": [],
   "source": []
  },
  {
   "cell_type": "code",
   "execution_count": null,
   "id": "8315473b",
   "metadata": {},
   "outputs": [],
   "source": []
  }
 ],
 "metadata": {
  "kernelspec": {
   "display_name": "Python 3",
   "language": "python",
   "name": "python3"
  },
  "language_info": {
   "codemirror_mode": {
    "name": "ipython",
    "version": 3
   },
   "file_extension": ".py",
   "mimetype": "text/x-python",
   "name": "python",
   "nbconvert_exporter": "python",
   "pygments_lexer": "ipython3",
   "version": "3.10.18"
  }
 },
 "nbformat": 4,
 "nbformat_minor": 5
}
